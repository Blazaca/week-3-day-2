{
 "cells": [
  {
   "cell_type": "markdown",
   "metadata": {},
   "source": [
    "# Map, Filter, Reduce, Lambda & Recursion"
   ]
  },
  {
   "cell_type": "markdown",
   "metadata": {},
   "source": [
    "## Tasks Today:\n",
    "\n",
    "1) <b>Lambda Functions</b> <br>\n",
    " &nbsp;&nbsp;&nbsp;&nbsp; a) Syntax <br>\n",
    " &nbsp;&nbsp;&nbsp;&nbsp; b) Saving to a Variable <br>\n",
    " &nbsp;&nbsp;&nbsp;&nbsp; c) Multiple Inputs <br>\n",
    " &nbsp;&nbsp;&nbsp;&nbsp; d) Passing a Lambda into a Function <br>\n",
    " &nbsp;&nbsp;&nbsp;&nbsp; e) Returning a Lambda from a Function <br>\n",
    " &nbsp;&nbsp;&nbsp;&nbsp; f) In-Class Exercise #1 <br>\n",
    "2) <b>Map</b> <br>\n",
    " &nbsp;&nbsp;&nbsp;&nbsp; a) Syntax <br>\n",
    " &nbsp;&nbsp;&nbsp;&nbsp; b) Using Lambda's with Map <br>\n",
    " &nbsp;&nbsp;&nbsp;&nbsp; c) In-Class Exercise #2 <br>\n",
    "3) <b>Filter</b> <br>\n",
    " &nbsp;&nbsp;&nbsp;&nbsp; a) Syntax <br>\n",
    " &nbsp;&nbsp;&nbsp;&nbsp; b) Using Lambda's with Filter <br>\n",
    " &nbsp;&nbsp;&nbsp;&nbsp; c) In-Class Exercise #3 <br>\n",
    "4) <b>Reduce</b> <br>\n",
    " &nbsp;&nbsp;&nbsp;&nbsp; a) Syntax <br>\n",
    " &nbsp;&nbsp;&nbsp;&nbsp; b) Using Lambda's with Reduce <br>\n",
    " &nbsp;&nbsp;&nbsp;&nbsp; c) In-Class Exercise #4 <br>\n",
    "5) <b>Recursion</b> <br>\n",
    " &nbsp;&nbsp;&nbsp;&nbsp; a) Implementing a Base <br>\n",
    " &nbsp;&nbsp;&nbsp;&nbsp; b) Writing a Factorial Function <br>\n",
    " &nbsp;&nbsp;&nbsp;&nbsp; c) In-Class Exercise #5 <br>\n",
    "6) <b>Generators & Iterators</b> <br>\n",
    " &nbsp;&nbsp;&nbsp;&nbsp; a) Yield Keyword <br>\n",
    " &nbsp;&nbsp;&nbsp;&nbsp; b) Inifinite Generator <br>\n",
    " &nbsp;&nbsp;&nbsp;&nbsp; c) In-Class Exercise #6 <br>\n",
    "7) <b>Exercises</b> <br>\n",
    " &nbsp;&nbsp;&nbsp;&nbsp; a) Exercise #1 - Filtering Empty Strings <br>\n",
    " &nbsp;&nbsp;&nbsp;&nbsp; b) Exercise #2 - Sorting with Last Name <br>\n",
    " &nbsp;&nbsp;&nbsp;&nbsp; c) Exercise #3 - Conversion to Farhenheit <br>\n",
    " &nbsp;&nbsp;&nbsp;&nbsp; d) Exercise #4 - Fibonacci Sequence <br>"
   ]
  },
  {
   "cell_type": "markdown",
   "metadata": {},
   "source": [
    "## Lambda Functions <br>\n",
    "<p>Lambda functions... or \"Anonymous Functions\" are referring to inline functions with no name. The keyword lambda denotes the no name function, and executes within a single line. Without saving it to a variable; however, it is not able to be used, unless passed in either as a paramater or within list comprehension.<br>Written as \"(keyword lambda) (one or more inputs) (colon) (function to be executed)\"</p>"
   ]
  },
  {
   "cell_type": "markdown",
   "metadata": {},
   "source": [
    "#### Syntax"
   ]
  },
  {
   "cell_type": "code",
   "execution_count": 3,
   "metadata": {},
   "outputs": [
    {
     "name": "stdout",
     "output_type": "stream",
     "text": [
      "20\n",
      "20\n"
     ]
    }
   ],
   "source": [
    "def timesTwo(x):\n",
    "    return x*2\n",
    "\n",
    "print(timesTwo(10))\n",
    "\n",
    "# Lambda Function Syntax ( not saving in a  variable)\n",
    "\n",
    "print((lambda x: x * 2)(10))"
   ]
  },
  {
   "cell_type": "markdown",
   "metadata": {},
   "source": [
    "#### Saving to a Variable"
   ]
  },
  {
   "cell_type": "code",
   "execution_count": 4,
   "metadata": {},
   "outputs": [
    {
     "data": {
      "text/plain": [
       "10"
      ]
     },
     "execution_count": 4,
     "metadata": {},
     "output_type": "execute_result"
    }
   ],
   "source": [
    "lamb = lambda x: x*2\n",
    "\n",
    "lamb(5)"
   ]
  },
  {
   "cell_type": "markdown",
   "metadata": {},
   "source": [
    "#### Multiple Inputs"
   ]
  },
  {
   "cell_type": "code",
   "execution_count": 5,
   "metadata": {},
   "outputs": [
    {
     "name": "stdout",
     "output_type": "stream",
     "text": [
      "16\n",
      "20\n"
     ]
    }
   ],
   "source": [
    "# multiple inputs - unsaved\n",
    "print((lambda x,y,z: x*y*z)(2,4,2))\n",
    "\n",
    "# Saving multiple input lambda in variable\n",
    "test = lambda x,y,z: x*y*z\n",
    "\n",
    "print(test(2,5,2))\n"
   ]
  },
  {
   "cell_type": "markdown",
   "metadata": {},
   "source": [
    "#### Passing a Lambda into a Function"
   ]
  },
  {
   "cell_type": "code",
   "execution_count": 8,
   "metadata": {},
   "outputs": [
    {
     "data": {
      "text/plain": [
       "16"
      ]
     },
     "execution_count": 8,
     "metadata": {},
     "output_type": "execute_result"
    }
   ],
   "source": [
    "def multiply(f, num):\n",
    "    \"\"\"\n",
    "    f expects a lambda function\n",
    "    num expects a number\n",
    "    \"\"\"\n",
    "    return f(num)\n",
    "\n",
    "multiply(lambda x: x**2, 4)\n",
    "\n",
    "#steps broken down\n",
    "# calling multiply with...\n",
    "# f = lambda x: x**2\n",
    "# num = 4\n",
    "# f(num)"
   ]
  },
  {
   "cell_type": "markdown",
   "metadata": {},
   "source": [
    "#### Returning a Lambda from a Function"
   ]
  },
  {
   "cell_type": "code",
   "execution_count": 13,
   "metadata": {
    "scrolled": true
   },
   "outputs": [
    {
     "name": "stdout",
     "output_type": "stream",
     "text": [
      "<function returnFunc.<locals>.multiply at 0x000001F01AD4FB80>\n",
      "8\n",
      "5\n"
     ]
    }
   ],
   "source": [
    "# Regular user-defined function\n",
    "def multiply_test(num):\n",
    "    return num * 4\n",
    "\n",
    "# Also can define functions within another function's scope\n",
    "def returnFunc():\n",
    "    test = 4 #not being used...\n",
    "    def multiply(num):\n",
    "        return num * 2\n",
    "    return multiply\n",
    "\n",
    "print(returnFunc())\n",
    "f_return = returnFunc()\n",
    "print(f_return(4))\n",
    "\n",
    "#Example with lambda\n",
    "def returnLam(b, c):\n",
    "    return lambda x,y: x + y + b + c\n",
    "\n",
    "r_lam = returnLam(1,2)\n",
    "print(r_lam(1,1))\n",
    "\n",
    "#Full breakdown...\n",
    "#call returnLam..\n",
    "#b = 1\n",
    "#c = 2\n",
    "#return lambda x, y: x+ y + 1 + 2\n",
    "# call the lambda with...\n",
    "# x = 1\n",
    "# y = 1\n",
    "# return 1 + 1 + 1 + 2"
   ]
  },
  {
   "cell_type": "markdown",
   "metadata": {},
   "source": [
    "#### If Statements within Lambdas"
   ]
  },
  {
   "cell_type": "code",
   "execution_count": null,
   "metadata": {},
   "outputs": [],
   "source": [
    "# Syntax - Lambda x: True if (condition else False)\n",
    "# wrting a lambda function that multiplies a number by 2 if it is less than 10...\n",
    "# or adds 2 if > 10\n",
    "\n",
    "f_conditional = llambda x: x* 2 if x < 10 else\n",
    "\n",
    "    print(f_conditional(20))\n",
    "    print(f_conditional(2))\n",
    "    \n",
    "    #regularly defined\n",
    "    #def condition(x):\n",
    "    #    if x < 10:\n",
    "    #         reutrn x*2\n",
    "    "
   ]
  },
  {
   "cell_type": "markdown",
   "metadata": {},
   "source": [
    "#### In-Class Exercise #1 <br>\n",
    "<p>Write an anonymous function that cubes the arguments passed in and assign the anonymous function to a variable 'f'.</p>"
   ]
  },
  {
   "cell_type": "code",
   "execution_count": 18,
   "metadata": {},
   "outputs": [
    {
     "name": "stdout",
     "output_type": "stream",
     "text": [
      "64\n"
     ]
    }
   ],
   "source": [
    "def returnExp(x):\n",
    "    return lambda y: y**x\n",
    "\n",
    "cuber = returnExp(3)\n",
    "print(cuber(4))\n"
   ]
  },
  {
   "cell_type": "markdown",
   "metadata": {},
   "source": [
    "## Map <br>\n",
    "<p>The map function allows you to iterate over an entire list while running a function on each item of the list. This is why the map function works well with lambda's, because it simplifies things and you write less lines of code.<br>The syntax for a map function is \"map(function to be used, list to be used)\"<br>However, you must be careful, as the map function returns a map object, not a list. To turn it into a list we use the list() type conversion.</p>"
   ]
  },
  {
   "cell_type": "markdown",
   "metadata": {},
   "source": [
    "#### Syntax"
   ]
  },
  {
   "cell_type": "code",
   "execution_count": 29,
   "metadata": {},
   "outputs": [
    {
     "name": "stdout",
     "output_type": "stream",
     "text": [
      "[(16, 16), (11, 10), (20, 3), (9, 4), (15, 6), (20, 10)]\n"
     ]
    }
   ],
   "source": [
    "# map (func, interable(list,dict,tuple,set))\n",
    "# can occur with prebuilt functions or lambdas\n",
    "\n",
    "def squared(num, num2):\n",
    "    if num < 10 and num2 < 10:\n",
    "        return num**2, num2**2\n",
    "    else:\n",
    "        return num, num2\n",
    "\n",
    "numbers = [4,11,20,3,15,20]\n",
    "more_nums = [4,10,3,2,6,10]\n",
    "\n",
    "squared_map = list(map(squared, numbers, more_nums))\n",
    "\n",
    "print(squared_map)"
   ]
  },
  {
   "cell_type": "markdown",
   "metadata": {},
   "source": [
    "#### Using Lambda's with Map"
   ]
  },
  {
   "cell_type": "code",
   "execution_count": 33,
   "metadata": {},
   "outputs": [
    {
     "name": "stdout",
     "output_type": "stream",
     "text": [
      "[(16, 16), (11, 10), (20, 3), (9, 4), (15, 6), (20, 10)]\n"
     ]
    }
   ],
   "source": [
    "# map(lambdaFunc, interable(s))\n",
    "# lambda will be created inline (usually)\n",
    "\n",
    "sqaured_lamb = list(map(lambda x,y: (x**2, y**2) if x < 10 and y < 10 else (x,y), numbers, more_nums))\n",
    "print(sqaured_lamb)\n"
   ]
  },
  {
   "cell_type": "markdown",
   "metadata": {},
   "source": [
    "#### In-Class Exercise #2 <br>\n",
    "<p>Use the map function to double each number and subtract\n",
    "    it by one in the list by using a lambda function</p>"
   ]
  },
  {
   "cell_type": "code",
   "execution_count": 36,
   "metadata": {},
   "outputs": [
    {
     "name": "stdout",
     "output_type": "stream",
     "text": [
      "[1, 9, 39, 29, 7, 3, 13]\n"
     ]
    }
   ],
   "source": [
    "a_list = [1,5,20,15,4,2,7]\n",
    "exer_2 = list(map((lambda x: x*2-1), a_list))\n",
    "print(exer_2)\n",
    "\n",
    "#expected output\n",
    "# [1,9,39,29,7,3,13]\n",
    "\n",
    "\n",
    "#"
   ]
  },
  {
   "cell_type": "markdown",
   "metadata": {},
   "source": [
    "## Filter() <br>\n",
    "<p>Filter's are similar to the map function, where you're able to pass a function argument and a list argument and filter out something from the list based on the conditions passed. Similar to the map function, it returns a filter object, so you need to type convert it to a list()</p>"
   ]
  },
  {
   "cell_type": "markdown",
   "metadata": {},
   "source": [
    "#### Syntax"
   ]
  },
  {
   "cell_type": "code",
   "execution_count": 38,
   "metadata": {},
   "outputs": [
    {
     "name": "stdout",
     "output_type": "stream",
     "text": [
      "['Andy', 'Angelica']\n"
     ]
    }
   ],
   "source": [
    "names = ['Bob','Andy','Max','Evan','Angelica']\n",
    "\n",
    "def a_names(name):\n",
    "    if name[0].lower() == 'a':\n",
    "        return True\n",
    "    else:\n",
    "        return False\n",
    "\n",
    "new_names = list(filter(a_names, names))\n",
    "print(new_names)\n",
    "    "
   ]
  },
  {
   "cell_type": "markdown",
   "metadata": {},
   "source": [
    "#### Using Lambda's with Filter()"
   ]
  },
  {
   "cell_type": "code",
   "execution_count": 40,
   "metadata": {},
   "outputs": [
    {
     "name": "stdout",
     "output_type": "stream",
     "text": [
      "['Andy', 'Angelica']\n"
     ]
    }
   ],
   "source": [
    "new_names_lamb = list(filter(lambda name: name[0].lower() == 'a', names))\n",
    "print(new_names_lamb)"
   ]
  },
  {
   "cell_type": "markdown",
   "metadata": {},
   "source": [
    "#### In-Class Exercise #3 <br>\n",
    "<p>Filter out all the numbers that are below the mean of the list.<br><b>Hint: Import the 'statistics' module</b></p>"
   ]
  },
  {
   "cell_type": "code",
   "execution_count": 51,
   "metadata": {},
   "outputs": [
    {
     "data": {
      "text/plain": [
       "[4.9, 7, 9]"
      ]
     },
     "execution_count": 51,
     "metadata": {},
     "output_type": "execute_result"
    }
   ],
   "source": [
    "from statistics import mean\n",
    "nums = [2,7,4.2,1.6,9,4.4,4.9]\n",
    "list_mean = mean(nums)\n",
    "new_list = list(filter(lambda num: num > list_mean, nums))\n",
    "sorted(new_list)\n"
   ]
  },
  {
   "cell_type": "markdown",
   "metadata": {},
   "source": [
    "## Reduce() <br>\n",
    "<p>Be very careful when using this function, as of Python 3 it's been moved to the 'functools' library and no longer is a built-in function.<br>The creator of Python himself, says to just use a for loop instead.</p>"
   ]
  },
  {
   "cell_type": "markdown",
   "metadata": {},
   "source": [
    "#### Syntax"
   ]
  },
  {
   "cell_type": "code",
   "execution_count": 57,
   "metadata": {},
   "outputs": [
    {
     "name": "stdout",
     "output_type": "stream",
     "text": [
      "30\n",
      "-26\n"
     ]
    }
   ],
   "source": [
    "from functools import reduce\n",
    "\n",
    "# reduce(function, iterable)\n",
    "\n",
    "list_1 = [2,4,6,8,10]\n",
    "\n",
    "def addNums(num1, num2):\n",
    "    return num1 + num2\n",
    "\n",
    "result_add = reduce(addNums, list_1)\n",
    "print(result_add)\n",
    "\n",
    "#subrtract all nums\n",
    "def subtractNums(num1,num2):\n",
    "    return num1-num2\n",
    "\n",
    "result_sub = reduce(subtractNums, list_1)\n",
    "print(result_sub)\n",
    "\n",
    "# This is what I would do instead.\n",
    "\n",
    "def multiplyNums(a_list):\n",
    "    counter = 1\n",
    "    for num in a_list:\n",
    "        counter*=num\n",
    "    return counter\n",
    "\n",
    "multiplyNums(list_1)"
   ]
  },
  {
   "cell_type": "markdown",
   "metadata": {},
   "source": [
    "#### Using Lambda's with Reduce()"
   ]
  },
  {
   "cell_type": "code",
   "execution_count": 60,
   "metadata": {},
   "outputs": [
    {
     "data": {
      "text/plain": [
       "30"
      ]
     },
     "execution_count": 60,
     "metadata": {},
     "output_type": "execute_result"
    }
   ],
   "source": [
    "red_lamb = reduce(lambda x,y: x + y, list_1)\n",
    "red_lamb"
   ]
  },
  {
   "cell_type": "markdown",
   "metadata": {},
   "source": [
    "#### In-Class Exercise #4 <br>\n",
    "<p>Use the reduce function to multiply the numbers in the list below together with a lambda function.</p>"
   ]
  },
  {
   "cell_type": "code",
   "execution_count": 62,
   "metadata": {},
   "outputs": [
    {
     "data": {
      "text/plain": [
       "3840"
      ]
     },
     "execution_count": 62,
     "metadata": {},
     "output_type": "execute_result"
    }
   ],
   "source": [
    "#expected solution 3840\n",
    "list_1 = [2,4,6,8,10]\n",
    "new_number = reduce(lambda x,y: x*y, list_1)\n",
    "new_number"
   ]
  },
  {
   "cell_type": "markdown",
   "metadata": {},
   "source": [
    "## Recursion <br>\n",
    "<p>Recursion means that a function is calling itself, so it contanstly executes until a base case is reached. It will then push the returning values back up the chain until the function is complete. A prime example of recursion is computing factorials... such that 5! (factorial) is 5*4*3*2*1 which equals 120.</p>"
   ]
  },
  {
   "cell_type": "markdown",
   "metadata": {},
   "source": [
    "#### Implementing a Base Case"
   ]
  },
  {
   "cell_type": "code",
   "execution_count": 79,
   "metadata": {},
   "outputs": [
    {
     "name": "stdout",
     "output_type": "stream",
     "text": [
      "addNums(5) = 5 + addNums(4)\n",
      "addNums(4) = 4 + addNums(3)\n",
      "addNums(3) = 3 + addNums(2)\n",
      "addNums(2) = 2 + addNums(1)\n",
      "addNums(1) = 1\n"
     ]
    },
    {
     "data": {
      "text/plain": [
       "15"
      ]
     },
     "execution_count": 79,
     "metadata": {},
     "output_type": "execute_result"
    }
   ],
   "source": [
    "def addNums(num):\n",
    "    # set the base case\n",
    "    if num <=1:\n",
    "        print('addNums(1) = 1')\n",
    "        return 1\n",
    "    else:\n",
    "        print(f'addNums({num}) = {num} + addNums({num - 1})')\n",
    "        return num + addNums(num-1)\n",
    "\n",
    "addNums(5)"
   ]
  },
  {
   "cell_type": "markdown",
   "metadata": {},
   "source": [
    "#### Writing a Factorial Function"
   ]
  },
  {
   "cell_type": "code",
   "execution_count": 71,
   "metadata": {},
   "outputs": [
    {
     "data": {
      "text/plain": [
       "120"
      ]
     },
     "execution_count": 71,
     "metadata": {},
     "output_type": "execute_result"
    }
   ],
   "source": [
    "# 5! -- 5*4*3*2*1\n",
    "def factorial(num):\n",
    "        if num <= 1:\n",
    "            return 1\n",
    "        else:\n",
    "            return num * factorial(num - 1)\n",
    "\n",
    "factorial(5)"
   ]
  },
  {
   "cell_type": "markdown",
   "metadata": {},
   "source": [
    "#### In-Class Exercise #5 <br>\n",
    "<p>Write a recursive function that subtracts all numbers to the argument given.</p>"
   ]
  },
  {
   "cell_type": "code",
   "execution_count": 83,
   "metadata": {},
   "outputs": [
    {
     "data": {
      "text/plain": [
       "3"
      ]
     },
     "execution_count": 83,
     "metadata": {},
     "output_type": "execute_result"
    }
   ],
   "source": [
    "# 5 - 4 - 3 - 2 - 1\n",
    "\n",
    "def recurSub(num):\n",
    "    if num <= 1:\n",
    "        return 1\n",
    "    else:\n",
    "        return num - recurSub(num - 1)\n",
    "    \n",
    "recurSub(5)"
   ]
  },
  {
   "cell_type": "markdown",
   "metadata": {},
   "source": [
    "## Generators <br>\n",
    "<p>Generators are a type of iterable, like lists or tuples. They do not allow indexing, but they can still be iterated through with for loops. They are created using functions and the yield statement.</p>"
   ]
  },
  {
   "cell_type": "markdown",
   "metadata": {},
   "source": [
    "#### Yield Keyword <br>\n",
    "<p>The yield keyword denotes a generator, it doesn't return so it won't leave the function and reset all variables in the function scope, instead it yields the number back to the caller.</p>"
   ]
  },
  {
   "cell_type": "code",
   "execution_count": 88,
   "metadata": {},
   "outputs": [
    {
     "name": "stdout",
     "output_type": "stream",
     "text": [
      "25\n",
      "36\n",
      "49\n",
      "64\n",
      "81\n",
      "100\n",
      "121\n",
      "144\n",
      "169\n",
      "196\n",
      "225\n",
      "256\n",
      "289\n",
      "324\n",
      "361\n"
     ]
    },
    {
     "data": {
      "text/plain": [
       "225"
      ]
     },
     "execution_count": 88,
     "metadata": {},
     "output_type": "execute_result"
    }
   ],
   "source": [
    "def my_range(start, stop, step = 2):\n",
    "    while start < stop:\n",
    "        yield start ** 2 # yield keyword denotes generator\n",
    "        start += step\n",
    "\n",
    "for num in my_range(5, 20,1):\n",
    "    print(num)\n",
    "    \n",
    "list(my_range(5,20))[5]"
   ]
  },
  {
   "cell_type": "markdown",
   "metadata": {},
   "source": [
    "#### Infinite Generator"
   ]
  },
  {
   "cell_type": "code",
   "execution_count": null,
   "metadata": {},
   "outputs": [],
   "source": [
    "# bad, never create infinite loops"
   ]
  },
  {
   "cell_type": "markdown",
   "metadata": {},
   "source": [
    "#### In-Class Exercise #6 <br>\n",
    "<p>Create a generator that takes a number argument and yields that number floor divided by 2\n",
    "   , then prints each number squared until zero is reached.</p>"
   ]
  },
  {
   "cell_type": "code",
   "execution_count": 100,
   "metadata": {},
   "outputs": [
    {
     "name": "stdout",
     "output_type": "stream",
     "text": [
      "25\n",
      "24\n",
      "24\n",
      "23\n",
      "23\n",
      "22\n",
      "22\n",
      "21\n",
      "21\n",
      "20\n",
      "20\n",
      "19\n",
      "19\n",
      "18\n",
      "18\n",
      "17\n",
      "17\n",
      "16\n",
      "16\n",
      "15\n",
      "15\n",
      "14\n",
      "14\n",
      "13\n",
      "13\n",
      "12\n",
      "12\n",
      "11\n",
      "11\n",
      "10\n",
      "10\n",
      "9\n",
      "9\n",
      "8\n",
      "8\n",
      "7\n",
      "7\n",
      "6\n",
      "6\n",
      "5\n",
      "5\n"
     ]
    }
   ],
   "source": [
    "def gen_range(start, stop, step=1):\n",
    "    while stop >= start:\n",
    "        yield stop // 2\n",
    "        stop -= step\n",
    "\n",
    "for number in gen_range(10,50):\n",
    "    print(number)"
   ]
  },
  {
   "cell_type": "markdown",
   "metadata": {},
   "source": [
    "# Exercises"
   ]
  },
  {
   "cell_type": "markdown",
   "metadata": {},
   "source": [
    "### Exercise #1 <br>\n",
    "<p>Filter out all of the empty strings from the list below</p>\n",
    "\n",
    "`Output: ['Argentina', 'San Diego', 'Boston', 'New York']`"
   ]
  },
  {
   "cell_type": "code",
   "execution_count": 122,
   "metadata": {},
   "outputs": [
    {
     "name": "stdout",
     "output_type": "stream",
     "text": [
      "['Argentina', 'San Diego', 'Boston', 'New York']\n"
     ]
    }
   ],
   "source": [
    "places = [\" \",\"Argentina\", \" \", \"San Diego\",\"\",\"  \",\"\",\"Boston\",\"New York\"]\n",
    "#dont use regex\n",
    "\n",
    "def placeFil(place):\n",
    "    if place.isspace() == True:\n",
    "        return False\n",
    "    elif place == '':\n",
    "        return False\n",
    "    else:\n",
    "        return True\n",
    "    \n",
    "new_places = list(filter(placeFil, places))\n",
    "print(new_places)"
   ]
  },
  {
   "cell_type": "markdown",
   "metadata": {},
   "source": [
    "### Exercise #2 <br>\n",
    "<p>Write an anonymous function that sorts this list by the last name...<br><b>Hint: Use the \".sort()\" method and access the key\"</b></p>\n",
    "\n",
    "`Output: ['Victor aNisimov', 'Gary A.J. Bernstein', 'Joel Carter', 'Andrew P. Garfield', 'David hassELHOFF']`"
   ]
  },
  {
   "cell_type": "code",
   "execution_count": 144,
   "metadata": {},
   "outputs": [
    {
     "name": "stdout",
     "output_type": "stream",
     "text": [
      "['Victor aNisimov', 'Gary A.J. Bernstein', 'Joel Carter', 'Andrew P. Garfield', 'David hassELHOFF']\n"
     ]
    }
   ],
   "source": [
    "author = [\"Joel Carter\", \"Victor aNisimov\", \"Andrew P. Garfield\",\"David hassELHOFF\",\"Gary A.J. Bernstein\"]\n",
    "def authorSort(list):\n",
    "    return sorted(list, key=lambda ln: ln.split()[-1].lower())\n",
    "print(authorSort(author))\n"
   ]
  },
  {
   "cell_type": "markdown",
   "metadata": {},
   "source": [
    "### Exercise #3 <br>\n",
    "<p>Convert the list below from Celsius to Farhenheit, using the map function with a lambda...</p>\n",
    "\n",
    "`Output: [('Nashua', 89.6), ('Boston', 53.6), ('Los Angelos', 111.2), ('Miami', 84.2)]\n",
    "`"
   ]
  },
  {
   "cell_type": "code",
   "execution_count": 4,
   "metadata": {},
   "outputs": [
    {
     "data": {
      "text/plain": [
       "[('Nashua', 89.6), ('Boston', 53.6), ('Los Angelos', 111.2), ('Miami', 84.2)]"
      ]
     },
     "execution_count": 4,
     "metadata": {},
     "output_type": "execute_result"
    }
   ],
   "source": [
    "# F = (9/5)*C + 32\n",
    "places = [('Nashua',32),(\"Boston\",12),(\"Los Angelos\",44),(\"Miami\",29)]\n",
    "new_temp = list(map(lambda x: (x[0],(9/5)*x[1] + 32 ), places ))\n",
    "new_temp\n",
    "    \n",
    "\n",
    "\n",
    "\n",
    "\n",
    "\n",
    "# list(map(lambda x,y: (x**2, y**2) if x < 10 and y < 10 else (x,y), numbers, more_nums))"
   ]
  },
  {
   "cell_type": "markdown",
   "metadata": {},
   "source": [
    "### Exercise #4 <br>\n",
    "<p>Write a recursion function to perform the fibonacci sequence up to the number passed in.</p>\n",
    "\n",
    "`Output for fib(5) => \n",
    "Iteration 0: 1\n",
    "Iteration 1: 1\n",
    "Iteration 2: 2\n",
    "Iteration 3: 3\n",
    "Iteration 4: 5\n",
    "Iteration 5: 8`"
   ]
  },
  {
   "cell_type": "code",
   "execution_count": 1,
   "metadata": {
    "scrolled": true
   },
   "outputs": [
    {
     "name": "stdout",
     "output_type": "stream",
     "text": [
      "Iteration 14: 1\n",
      "Iteration 13: 2\n",
      "Iteration 12: 3\n",
      "Iteration 11: 5\n",
      "Iteration 10: 8\n",
      "Iteration 9: 13\n",
      "Iteration 8: 21\n",
      "Iteration 7: 34\n",
      "Iteration 6: 55\n",
      "Iteration 5: 89\n",
      "Iteration 4: 144\n",
      "Iteration 3: 233\n",
      "Iteration 2: 377\n",
      "Iteration 1: 610\n"
     ]
    },
    {
     "data": {
      "text/plain": [
       "610"
      ]
     },
     "execution_count": 1,
     "metadata": {},
     "output_type": "execute_result"
    }
   ],
   "source": [
    "def fibon(num, fib1, fib2, total):\n",
    "    if num <= 1:\n",
    "        return total\n",
    "    else:\n",
    "        total = fib1 + fib2\n",
    "        fib1 = fib2\n",
    "        fib2 = total\n",
    "        print(f'Iteration {num-1}: {total}')\n",
    "        return fibon(num - 1, fib1,fib2,total)\n",
    "\n",
    "fibon(15,0,1,0)\n"
   ]
  },
  {
   "cell_type": "code",
   "execution_count": null,
   "metadata": {},
   "outputs": [],
   "source": []
  }
 ],
 "metadata": {
  "kernelspec": {
   "display_name": "Python 3 (ipykernel)",
   "language": "python",
   "name": "python3"
  },
  "language_info": {
   "codemirror_mode": {
    "name": "ipython",
    "version": 3
   },
   "file_extension": ".py",
   "mimetype": "text/x-python",
   "name": "python",
   "nbconvert_exporter": "python",
   "pygments_lexer": "ipython3",
   "version": "3.8.8"
  }
 },
 "nbformat": 4,
 "nbformat_minor": 2
}
